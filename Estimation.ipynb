{
 "cells": [
  {
   "cell_type": "code",
   "execution_count": 1,
   "metadata": {},
   "outputs": [],
   "source": [
    "import pandas as pd\n",
    "import seaborn as sns\n",
    "import numpy as np\n",
    "import matplotlib.pyplot as plt"
   ]
  },
  {
   "cell_type": "markdown",
   "metadata": {},
   "source": [
    "Variable\n",
    "\n",
    "Description\n",
    "\n",
    "Gender\t:    1 for female, 2 for male\n",
    "\n",
    "Words\t:    Time in seconds to read 60 color words (in black ink)\n",
    "\n",
    "Colors\t:    Time in seconds to name 60 color rectangles\n",
    "\n",
    "Interfer:\tTime in seconds to name colors of conflicting words\n"
   ]
  },
  {
   "cell_type": "code",
   "execution_count": 2,
   "metadata": {},
   "outputs": [],
   "source": [
    "stroop_df = pd.read_csv('data/stroop.txt', sep=' ')"
   ]
  },
  {
   "cell_type": "code",
   "execution_count": 3,
   "metadata": {},
   "outputs": [
    {
     "data": {
      "text/html": [
       "<div>\n",
       "<style scoped>\n",
       "    .dataframe tbody tr th:only-of-type {\n",
       "        vertical-align: middle;\n",
       "    }\n",
       "\n",
       "    .dataframe tbody tr th {\n",
       "        vertical-align: top;\n",
       "    }\n",
       "\n",
       "    .dataframe thead th {\n",
       "        text-align: right;\n",
       "    }\n",
       "</style>\n",
       "<table border=\"1\" class=\"dataframe\">\n",
       "  <thead>\n",
       "    <tr style=\"text-align: right;\">\n",
       "      <th></th>\n",
       "      <th>gender</th>\n",
       "      <th>words</th>\n",
       "      <th>colors</th>\n",
       "      <th>interfer</th>\n",
       "    </tr>\n",
       "  </thead>\n",
       "  <tbody>\n",
       "    <tr>\n",
       "      <th>0</th>\n",
       "      <td>1</td>\n",
       "      <td>14</td>\n",
       "      <td>17</td>\n",
       "      <td>38</td>\n",
       "    </tr>\n",
       "    <tr>\n",
       "      <th>1</th>\n",
       "      <td>1</td>\n",
       "      <td>17</td>\n",
       "      <td>15</td>\n",
       "      <td>58</td>\n",
       "    </tr>\n",
       "    <tr>\n",
       "      <th>2</th>\n",
       "      <td>1</td>\n",
       "      <td>17</td>\n",
       "      <td>18</td>\n",
       "      <td>35</td>\n",
       "    </tr>\n",
       "    <tr>\n",
       "      <th>3</th>\n",
       "      <td>1</td>\n",
       "      <td>16</td>\n",
       "      <td>20</td>\n",
       "      <td>39</td>\n",
       "    </tr>\n",
       "    <tr>\n",
       "      <th>4</th>\n",
       "      <td>1</td>\n",
       "      <td>16</td>\n",
       "      <td>18</td>\n",
       "      <td>33</td>\n",
       "    </tr>\n",
       "  </tbody>\n",
       "</table>\n",
       "</div>"
      ],
      "text/plain": [
       "   gender  words  colors  interfer\n",
       "0       1     14      17        38\n",
       "1       1     17      15        58\n",
       "2       1     17      18        35\n",
       "3       1     16      20        39\n",
       "4       1     16      18        33"
      ]
     },
     "execution_count": 3,
     "metadata": {},
     "output_type": "execute_result"
    }
   ],
   "source": [
    "stroop_df.head()"
   ]
  },
  {
   "cell_type": "code",
   "execution_count": 4,
   "metadata": {},
   "outputs": [
    {
     "data": {
      "text/plain": [
       "Text(0.5, 1.0, 'Interference')"
      ]
     },
     "execution_count": 4,
     "metadata": {},
     "output_type": "execute_result"
    },
    {
     "data": {
      "image/png": "[encoded data removed]",
      "text/plain": [
       "<Figure size 504x504 with 3 Axes>"
      ]
     },
     "metadata": {
      "needs_background": "light"
     },
     "output_type": "display_data"
    }
   ],
   "source": [
    "fig, axes = plt.subplots(3, figsize=(7, 7), constrained_layout=True)\n",
    "\n",
    "axes[0].hist(stroop_df['words'])\n",
    "axes[1].hist(stroop_df['colors'])\n",
    "axes[2].hist(stroop_df['interfer'])\n",
    "\n",
    "axes[0].set_title('Words')\n",
    "axes[1].set_title('Colors')\n",
    "axes[2].set_title('Interference')"
   ]
  },
  {
   "cell_type": "code",
   "execution_count": 5,
   "metadata": {},
   "outputs": [
    {
     "data": {
      "text/plain": [
       "<AxesSubplot:xlabel='words', ylabel='Count'>"
      ]
     },
     "execution_count": 5,
     "metadata": {},
     "output_type": "execute_result"
    },
    {
     "data": {
      "image/png": "[encoded data removed]",
      "text/plain": [
       "<Figure size 432x288 with 1 Axes>"
      ]
     },
     "metadata": {
      "needs_background": "light"
     },
     "output_type": "display_data"
    }
   ],
   "source": [
    "sns.histplot(x='words', data=stroop_df, hue='gender')"
   ]
  },
  {
   "cell_type": "code",
   "execution_count": 6,
   "metadata": {},
   "outputs": [
    {
     "data": {
      "text/plain": [
       "<AxesSubplot:xlabel='colors', ylabel='Count'>"
      ]
     },
     "execution_count": 6,
     "metadata": {},
     "output_type": "execute_result"
    },
    {
     "data": {
      "image/png": "[encoded data removed]",
      "text/plain": [
       "<Figure size 432x288 with 1 Axes>"
      ]
     },
     "metadata": {
      "needs_background": "light"
     },
     "output_type": "display_data"
    }
   ],
   "source": [
    "sns.histplot(x='colors', data=stroop_df, hue='gender')"
   ]
  },
  {
   "cell_type": "code",
   "execution_count": 7,
   "metadata": {},
   "outputs": [
    {
     "data": {
      "text/plain": [
       "<AxesSubplot:xlabel='interfer', ylabel='Count'>"
      ]
     },
     "execution_count": 7,
     "metadata": {},
     "output_type": "execute_result"
    },
    {
     "data": {
      "image/png": "[encoded data removed]",
      "text/plain": [
       "<Figure size 432x288 with 1 Axes>"
      ]
     },
     "metadata": {
      "needs_background": "light"
     },
     "output_type": "display_data"
    }
   ],
   "source": [
    "sns.histplot(x='interfer', data=stroop_df, hue='gender')"
   ]
  },
  {
   "cell_type": "code",
   "execution_count": 8,
   "metadata": {},
   "outputs": [
    {
     "data": {
      "text/html": [
       "<div>\n",
       "<style scoped>\n",
       "    .dataframe tbody tr th:only-of-type {\n",
       "        vertical-align: middle;\n",
       "    }\n",
       "\n",
       "    .dataframe tbody tr th {\n",
       "        vertical-align: top;\n",
       "    }\n",
       "\n",
       "    .dataframe thead th {\n",
       "        text-align: right;\n",
       "    }\n",
       "</style>\n",
       "<table border=\"1\" class=\"dataframe\">\n",
       "  <thead>\n",
       "    <tr style=\"text-align: right;\">\n",
       "      <th></th>\n",
       "      <th>gender</th>\n",
       "      <th>words</th>\n",
       "      <th>colors</th>\n",
       "      <th>interfer</th>\n",
       "    </tr>\n",
       "  </thead>\n",
       "  <tbody>\n",
       "    <tr>\n",
       "      <th>count</th>\n",
       "      <td>47.000000</td>\n",
       "      <td>47.000000</td>\n",
       "      <td>47.000000</td>\n",
       "      <td>47.000000</td>\n",
       "    </tr>\n",
       "    <tr>\n",
       "      <th>mean</th>\n",
       "      <td>1.340426</td>\n",
       "      <td>16.085106</td>\n",
       "      <td>20.234043</td>\n",
       "      <td>36.595745</td>\n",
       "    </tr>\n",
       "    <tr>\n",
       "      <th>std</th>\n",
       "      <td>0.478975</td>\n",
       "      <td>3.971802</td>\n",
       "      <td>3.731259</td>\n",
       "      <td>7.421062</td>\n",
       "    </tr>\n",
       "    <tr>\n",
       "      <th>min</th>\n",
       "      <td>1.000000</td>\n",
       "      <td>11.000000</td>\n",
       "      <td>14.000000</td>\n",
       "      <td>24.000000</td>\n",
       "    </tr>\n",
       "    <tr>\n",
       "      <th>25%</th>\n",
       "      <td>1.000000</td>\n",
       "      <td>14.000000</td>\n",
       "      <td>17.500000</td>\n",
       "      <td>32.000000</td>\n",
       "    </tr>\n",
       "    <tr>\n",
       "      <th>50%</th>\n",
       "      <td>1.000000</td>\n",
       "      <td>15.000000</td>\n",
       "      <td>20.000000</td>\n",
       "      <td>35.000000</td>\n",
       "    </tr>\n",
       "    <tr>\n",
       "      <th>75%</th>\n",
       "      <td>2.000000</td>\n",
       "      <td>17.000000</td>\n",
       "      <td>22.500000</td>\n",
       "      <td>40.000000</td>\n",
       "    </tr>\n",
       "    <tr>\n",
       "      <th>max</th>\n",
       "      <td>2.000000</td>\n",
       "      <td>29.000000</td>\n",
       "      <td>30.000000</td>\n",
       "      <td>58.000000</td>\n",
       "    </tr>\n",
       "  </tbody>\n",
       "</table>\n",
       "</div>"
      ],
      "text/plain": [
       "          gender      words     colors   interfer\n",
       "count  47.000000  47.000000  47.000000  47.000000\n",
       "mean    1.340426  16.085106  20.234043  36.595745\n",
       "std     0.478975   3.971802   3.731259   7.421062\n",
       "min     1.000000  11.000000  14.000000  24.000000\n",
       "25%     1.000000  14.000000  17.500000  32.000000\n",
       "50%     1.000000  15.000000  20.000000  35.000000\n",
       "75%     2.000000  17.000000  22.500000  40.000000\n",
       "max     2.000000  29.000000  30.000000  58.000000"
      ]
     },
     "execution_count": 8,
     "metadata": {},
     "output_type": "execute_result"
    }
   ],
   "source": [
    "stroop_df.describe()"
   ]
  },
  {
   "cell_type": "code",
   "execution_count": 9,
   "metadata": {},
   "outputs": [
    {
     "data": {
      "text/plain": [
       "<AxesSubplot:xlabel='gender', ylabel='words'>"
      ]
     },
     "execution_count": 9,
     "metadata": {},
     "output_type": "execute_result"
    },
    {
     "data": {
      "image/png": "[encoded data removed]",
      "text/plain": [
       "<Figure size 432x288 with 1 Axes>"
      ]
     },
     "metadata": {
      "needs_background": "light"
     },
     "output_type": "display_data"
    }
   ],
   "source": [
    "sns.boxplot(x='gender', y='words', data=stroop_df)"
   ]
  },
  {
   "cell_type": "code",
   "execution_count": 10,
   "metadata": {},
   "outputs": [
    {
     "data": {
      "text/plain": [
       "<seaborn.axisgrid.FacetGrid at 0x24cbec5d340>"
      ]
     },
     "execution_count": 10,
     "metadata": {},
     "output_type": "execute_result"
    },
    {
     "data": {
      "image/png": "[encoded data removed]",
      "text/plain": [
       "<Figure size 360x360 with 1 Axes>"
      ]
     },
     "metadata": {
      "needs_background": "light"
     },
     "output_type": "display_data"
    }
   ],
   "source": [
    "sns.relplot(x='words', y='colors', data=stroop_df, kind='scatter')"
   ]
  },
  {
   "cell_type": "markdown",
   "metadata": {},
   "source": [
    "Covariance between two variables X, Y is defined as\n",
    "\\$COV(X, Y) = E(XY) - EXEY\\$\n",
    "\n",
    "here we have covariance matrix, defined as follows \n",
    "\\$[[D^{2}X, cov(X, Y)],\n",
    "[cov(X, Y), D^{2}Y]]\\$\n",
    "\n",
    "and correlation coefficient as\n",
    "\\$p = \\frac{COV(X, Y)}{\\sigma_{X}\\sigma_{Y}}\\$"
   ]
  },
  {
   "cell_type": "code",
   "execution_count": 11,
   "metadata": {},
   "outputs": [
    {
     "name": "stdout",
     "output_type": "stream",
     "text": [
      "0.7012697451964959\n",
      "[[13.92229417 10.39269195]\n",
      " [10.39269195 15.77520814]]\n"
     ]
    },
    {
     "data": {
      "text/plain": [
       "0.7012697451964959"
      ]
     },
     "execution_count": 11,
     "metadata": {},
     "output_type": "execute_result"
    }
   ],
   "source": [
    "p = stroop_df['colors'].corr(stroop_df['words'])\n",
    "print(p)\n",
    "\n",
    "cov_matrix = np.cov(stroop_df['colors'].values, stroop_df['words'].values)\n",
    "print(cov_matrix)\n",
    "cov_xy = cov_matrix[0, 1]\n",
    "s_x, s_y = cov_matrix[0, 0], cov_matrix[1, 1]\n",
    "\n",
    "p = cov_xy / (np.sqrt(s_x * s_y))\n",
    "p"
   ]
  },
  {
   "cell_type": "code",
   "execution_count": 12,
   "metadata": {
    "scrolled": false
   },
   "outputs": [
    {
     "name": "stdout",
     "output_type": "stream",
     "text": [
      "[[17.11111111  5.77777778]\n",
      " [ 5.77777778  5.51111111]]\n"
     ]
    },
    {
     "data": {
      "text/plain": [
       "[<matplotlib.lines.Line2D at 0x24cc46a7fd0>]"
      ]
     },
     "execution_count": 12,
     "metadata": {},
     "output_type": "execute_result"
    },
    {
     "data": {
      "image/png": "[encoded data removed]",
      "text/plain": [
       "<Figure size 432x288 with 1 Axes>"
      ]
     },
     "metadata": {
      "needs_background": "light"
     },
     "output_type": "display_data"
    }
   ],
   "source": [
    "fastest_color_namers = stroop_df.nlargest(10, 'interfer')\n",
    "print(np.cov(fastest_color_namers['colors'], fastest_color_namers['words']))\n",
    "\n",
    "plt.plot(stroop_df['words'], stroop_df['colors'], marker='.', linestyle='none')\n",
    "plt.plot(fastest_color_namers['words'], fastest_color_namers['colors'], marker='.', linestyle='none')"
   ]
  },
  {
   "cell_type": "markdown",
   "metadata": {},
   "source": [
    "Performing a t-test comparing males and females on color\n",
    "\n",
    "The assumption of normality is made, even though it is rather not met (look at the histogram above)"
   ]
  },
  {
   "cell_type": "code",
   "execution_count": 13,
   "metadata": {
    "scrolled": true
   },
   "outputs": [
    {
     "data": {
      "text/plain": [
       "-2.8614138622402745"
      ]
     },
     "execution_count": 13,
     "metadata": {},
     "output_type": "execute_result"
    }
   ],
   "source": [
    "females = stroop_df.loc[stroop_df['gender'] == 1, 'colors']\n",
    "males = stroop_df.loc[stroop_df['gender'] == 2, 'colors']\n",
    "\n",
    "f_mean = np.mean(females)\n",
    "m_mean = np.mean(males)\n",
    "\n",
    "f_var = np.var(females)\n",
    "m_var = np.var(males)\n",
    "\n",
    "n_f = females.size\n",
    "n_m = males.size\n",
    "\n",
    "t_stat = (f_mean - m_mean) / np.sqrt((n_f * f_var + n_m * m_var) / (n_f + n_m - 2) * (1 / n_f + 1 / n_m))\n",
    "t_stat"
   ]
  },
  {
   "cell_type": "code",
   "execution_count": 14,
   "metadata": {},
   "outputs": [
    {
     "data": {
      "text/plain": [
       "True"
      ]
     },
     "execution_count": 14,
     "metadata": {},
     "output_type": "execute_result"
    }
   ],
   "source": [
    "from scipy.stats import t\n",
    "\n",
    "p = 0.05\n",
    "\n",
    "t.cdf(t_stat, (n_f + n_m - 2)) < p"
   ]
  },
  {
   "cell_type": "markdown",
   "metadata": {},
   "source": [
    "So we reject the null hypothesis that the means are equal"
   ]
  },
  {
   "cell_type": "markdown",
   "metadata": {},
   "source": [
    "### Confidence intervals for the mean\n",
    "\n",
    "Confidence intervals for the population parameter \\$ \\theta \\$ is a random variable \\$ [\\hat \\theta_1, \\hat \\theta_2]\\$ such that\n",
    "\n",
    "$$ P(\\hat \\theta_1 < \\theta < \\hat \\theta_2) = 1 - \\alpha$$\n",
    "\n",
    "where \\$ 1 - \\alpha \\$ is called the confidence coefficient. \n",
    "The interpretation is as follows : the interval is different for each sample, but we expect that about \\$ (1 - \\alpha)100% \\$ of all computed intervals will contain the true parameter value. \n",
    "\n",
    "The length of the interval indicates the accuracy of the estimation. As the sample size increases, we may expect to get better estimation. We can also make the interval shorter by decreasing the coefficient rate, however, more often the true parameter will not be contained in the interval. \n",
    "\n",
    "Note that intervals are based on the point estimates in most cases.\n",
    "\n",
    "##### Model 1\n",
    "Assumptions: \n",
    "1. \\$ X \\sim N(\\mu, \\sigma)\\$ or n is large enough so that the Central Limit Theorem applies\n",
    "2. n, \\$ \\alpha \\$\n",
    "\n",
    "The interval \n",
    "\n",
    "$$ [\\overline X - u(1 - \\frac{\\alpha}{2})\\frac{\\sigma}{\\sqrt{n}}; \\overline X + u(1 - \\frac{\\alpha}{2})\\frac{\\sigma}{\\sqrt{n}}]$$\n",
    "\n",
    "Example:\n",
    "The average zinc concentration recovered from a sample of measurements taken\n",
    "in 36 different locations in a river is found to be 2.6 grams per milliliter. Find\n",
    "the 95% and 99% confidence intervals for the mean zinc concentration in the river.\n",
    "Assume that the population standard deviation is 0.3 gram per milliliter"
   ]
  },
  {
   "cell_type": "code",
   "execution_count": 21,
   "metadata": {},
   "outputs": [
    {
     "name": "stdout",
     "output_type": "stream",
     "text": [
      "(2.502001800772997, 2.697998199227003)\n",
      "(2.471208534822555, 2.728791465177445)\n"
     ]
    }
   ],
   "source": [
    "from scipy.stats import norm\n",
    "n = 36\n",
    "sample_mean = 2.6\n",
    "pop_std = 0.3\n",
    "\n",
    "def conf_interval(s_mean, pop_std, n, alpha):\n",
    "    q = norm.ppf(1 - alpha / 2)\n",
    "    left_end = sample_mean - q * pop_std / np.sqrt(n)\n",
    "    right_end = sample_mean + q * pop_std / np.sqrt(n)\n",
    "    return (left_end, right_end)\n",
    "\n",
    "print(conf_interval(sample_mean, pop_std, n, 0.05))\n",
    "print(conf_interval(sample_mean, pop_std, n, 0.01))"
   ]
  },
  {
   "cell_type": "markdown",
   "metadata": {},
   "source": [
    "We should note that if \\$ \\overline x = \\mu\\$, then we don't commit any error. However, most of the time it won't be the case and we'll be commiting an absolute error of size \\$ |\\overline x - \\mu|\\$. We can state that \\$ (1 - \\alpha)100% \\$ of the times the error will not exceed \\$ u(1 - \\frac{\\alpha}{2})\\frac{\\sigma}{\\sqrt{n}} \\$\n",
    "\n",
    "Based on this observation, for the given error \\$ \\epsilon \\$ we can compute the minimal sample size\n",
    "\n",
    "$$ n \\ge [{u(1 - \\frac{\\alpha}{2})\\frac{\\sigma}{\\epsilon}}]^2 $$\n",
    "\n",
    "so as the sample size we choose {\\$ [{u(1 - \\frac{\\alpha}{2})\\frac{\\sigma}{\\epsilon}}]^2\\$}, where {} denotes the next integer value \n",
    "\n",
    "For the above example, what should be the sample size so that the error is 0.05 ? "
   ]
  },
  {
   "cell_type": "code",
   "execution_count": 23,
   "metadata": {},
   "outputs": [
    {
     "name": "stdout",
     "output_type": "stream",
     "text": [
      "139.0\n"
     ]
    }
   ],
   "source": [
    "alpha = 0.05\n",
    "error = 0.05\n",
    "n_computed = (norm.ppf(1 - alpha / 2) * pop_std / error) ** 2\n",
    "print(np.ceil(n_computed))"
   ]
  },
  {
   "cell_type": "markdown",
   "metadata": {},
   "source": [
    "##### Model 2\n",
    "Next, we'll compute 95% confidence interval for interference. \n",
    "Since we don't know the mean and the variance, we'll use t-statistic for the mean\n",
    "\n",
    "\\$X - t(1 - \\frac{\\alpha}{2}, n - 1)\\frac{S}{\\sqrt{n - 1}} < \\mu < X + t(1 - \\frac{\\alpha}{2}, n - 1)\\frac{S}{\\sqrt{n - 1}} \\$"
   ]
  },
  {
   "cell_type": "code",
   "execution_count": 16,
   "metadata": {},
   "outputs": [
    {
     "data": {
      "text/plain": [
       "<AxesSubplot:xlabel='difference', ylabel='Count'>"
      ]
     },
     "execution_count": 16,
     "metadata": {},
     "output_type": "execute_result"
    },
    {
     "data": {
      "image/png": "[encoded data removed]",
      "text/plain": [
       "<Figure size 432x288 with 1 Axes>"
      ]
     },
     "metadata": {
      "needs_background": "light"
     },
     "output_type": "display_data"
    }
   ],
   "source": [
    "stroop_df['difference'] = stroop_df['interfer'] - stroop_df['colors']\n",
    "sns.histplot(x='difference', data=stroop_df)"
   ]
  },
  {
   "cell_type": "code",
   "execution_count": 17,
   "metadata": {},
   "outputs": [
    {
     "data": {
      "text/plain": [
       "(14.14471203145878, 18.578692223860365)"
      ]
     },
     "execution_count": 17,
     "metadata": {},
     "output_type": "execute_result"
    }
   ],
   "source": [
    "diff_mean = stroop_df['difference'].mean()\n",
    "diff_s = np.std(stroop_df['difference'], ddof=1) #default is 1\n",
    "n = stroop_df.shape[0]\n",
    "\n",
    "alpha = 0.05\n",
    "t_stat = t.ppf(1 - alpha/2, n - 1)\n",
    "term = t_stat * (diff_s / np.sqrt(n - 1))\n",
    "(diff_mean - term, diff_mean + term)"
   ]
  },
  {
   "cell_type": "markdown",
   "metadata": {},
   "source": [
    "#### Confidence intervals for the variance \n",
    "\n",
    "###### Model 1\n",
    "If the population has normal distribution with unknown parameters, then we create \\$ 1 - \\alpha\\$ confidence interval using statistic $$ Z = \\frac{nS^2}{\\sigma^2}$$ which has \\$ \\chi^2 \\$ distribution with \\$ n - 1 \\$ degrees of freedom\n",
    "\n",
    "Then the two-sided interval is as follows\n",
    "\n",
    "$$ \\sigma^2 : (\\frac{n}{\\chi^2(1 - \\frac{\\alpha}{2}, n - 1)} S^2, \\frac{n}{\\chi^2(\\frac{\\alpha}{2}, n - 1)} S^2) $$\n",
    "\n",
    "$$ \\sigma : (\\sqrt{\\frac{n}{\\chi^2(1 - \\frac{\\alpha}{2}, n - 1)}} S, \\sqrt{\\frac{n}{\\chi^2(\\frac{\\alpha}{2}, n - 1)}} S) $$"
   ]
  },
  {
   "cell_type": "code",
   "execution_count": 18,
   "metadata": {},
   "outputs": [
    {
     "name": "stdout",
     "output_type": "stream",
     "text": [
      "variance =  54.61385242191038\n",
      "sample size =  47\n",
      "variance:  (38.53174446432523, 88.02627928288396)\n",
      "standard deviation:  (6.207394337749554, 9.382232105575088)\n"
     ]
    }
   ],
   "source": [
    "from scipy.stats import chi2\n",
    "# Let's compute the interval for the variance in the\n",
    "# difference column\n",
    "\n",
    "diff_var = stroop_df['difference'].var(ddof=0)\n",
    "n = len(stroop_df)\n",
    "alpha = 0.05\n",
    "\n",
    "print(\"variance = \", diff_var)\n",
    "print(\"sample size = \", n)\n",
    "\n",
    "left_end = n * diff_var / chi2.ppf(1 - alpha / 2, n - 1)\n",
    "right_end = n * diff_var / chi2.ppf(alpha / 2, n - 1)\n",
    "print(\"variance: \", (left_end, right_end))\n",
    "print(\"standard deviation: \", (np.sqrt(left_end), np.sqrt(right_end)))"
   ]
  },
  {
   "cell_type": "markdown",
   "metadata": {},
   "source": [
    "###### Model 2\n",
    "If the population size >= 30, then we can use the fact that \\$ S \\sim N(\\sigma, \\frac{\\sigma}{\\sqrt{2n}})\\$. So the confidence interval will be \n",
    "$$ \\sigma : (\\frac{S\\sqrt{2n}}{\\sqrt{2n} + u(1 - \\frac{\\alpha}{2})}; \\frac{S\\sqrt{2n}}{\\sqrt{2n} - u(1 - \\frac{\\alpha}{2})})$$\n",
    "\n",
    "We'll use this for the previous computations"
   ]
  },
  {
   "cell_type": "code",
   "execution_count": 19,
   "metadata": {},
   "outputs": [
    {
     "name": "stdout",
     "output_type": "stream",
     "text": [
      "variance:  (37.79044334619631, 85.79571407855443)\n",
      "standard deviation:  (6.147393215517965, 9.262597588071849)\n"
     ]
    }
   ],
   "source": [
    "from scipy.stats import norm\n",
    "\n",
    "assert n >= 30\n",
    "\n",
    "q = norm.ppf(1 - alpha / 2)\n",
    "diff_std = np.sqrt(diff_var)\n",
    "a = np.sqrt(2 * n)\n",
    "nominator = diff_std * a\n",
    "left_end = nominator / (a + q)\n",
    "right_end = nominator / (a - q)\n",
    "\n",
    "print(\"variance: \", (left_end ** 2, right_end ** 2))\n",
    "print(\"standard deviation: \", (left_end, right_end))"
   ]
  },
  {
   "cell_type": "markdown",
   "metadata": {},
   "source": [
    "### Minimal Sample Size\n",
    "\n",
    "###### Model 1\n",
    "A population has normal distribution with known \\$ \\sigma \\$, then for the interval length \\$ 2d \\$ we can find the minimum sample size\n",
    "\n",
    "$$ n \\geq (\\frac{u(1 - \\frac{\\alpha}{2}) \\sigma}{d})^2$$\n",
    "\n",
    "The example has been given earlier.\n",
    "\n",
    "###### Model 2\n",
    "A population has normal distribution with unknown \\$ \\sigma \\$, then for the interval length \\$ 2d \\$ we apply 2-step method\n",
    "\n",
    "The interval length is \n",
    "\n",
    "$$ 2t(1 - \\frac{\\alpha}{2}; n - 1)\\frac{S}{\\sqrt{n - 1}} $$\n",
    "\n",
    "We can't calculate it until we know the sample size. So we do the following\n",
    "\n",
    "1. Draw a pilot sample of size \\$ n_o \\$\n",
    "2. Compute \\$ \\overline x_o = \\frac{1}{n_o}\\sum_{i = 1}^{n_o} x_i\\$, \\$ S^2 = \\frac{1}{n_o}\\sum_{i = 1}^{n_o} (x_i - \\overline x_o)^2\\$\n",
    "3. If \\$ n_o \\geq k = (t(1 - \\frac{\\alpha}{2}; n_o - 1)\\frac{S}{d})^2 + 1\\$, then the sample size is enough\n",
    "4. Otherwise, draw the second sample of size \\$ n = [k] - n_o + 1\\$, where [x] is the integer part of a number\n",
    "5. Recompute \\$ \\overline x = \\frac{1}{n_o + n}\\sum_{i = 1}^{n_o + n} x_i\\$ (note that the sample variance is not recomputed!)\n",
    "\n",
    "The confidence interval is then\n",
    "$$ (\\overline x - t(1 - \\frac{\\alpha}{2}; n + n_o - 1)\\frac{S}{\\sqrt{n + n_o - 1}}; \\overline x + t(1 - \\frac{\\alpha}{2}; n + n_o - 1)\\frac{S}{\\sqrt{n + n_o - 1}})$$"
   ]
  },
  {
   "cell_type": "code",
   "execution_count": 20,
   "metadata": {},
   "outputs": [
    {
     "name": "stdout",
     "output_type": "stream",
     "text": [
      "47\n",
      "False\n",
      "176.0\n"
     ]
    }
   ],
   "source": [
    "from scipy.stats import t\n",
    "# Assume we want to such n so that the 95% confidence interval length is \n",
    "# 2d = 2 sec for the difference column in the stroop data\n",
    "\n",
    "alpha = 0.05\n",
    "d = 1\n",
    "n_o = len(stroop_df['difference'])\n",
    "print(n_o)\n",
    "\n",
    "diff_std = stroop_df['difference'].std(ddof=0)\n",
    "\n",
    "qt = t.ppf(1 - alpha / 2, n_o - 1)\n",
    "k = (qt * diff_std / d) ** 2 + 1\n",
    "\n",
    "print(n_o >= k)\n",
    "\n",
    "n = np.floor(k) - n_o + 1\n",
    "print(n)"
   ]
  }
 ],
 "metadata": {
  "kernelspec": {
   "display_name": "Python 3 (ipykernel)",
   "language": "python",
   "name": "python3"
  },
  "language_info": {
   "codemirror_mode": {
    "name": "ipython",
    "version": 3
   },
   "file_extension": ".py",
   "mimetype": "text/x-python",
   "name": "python",
   "nbconvert_exporter": "python",
   "pygments_lexer": "ipython3",
   "version": "3.9.12"
  }
 },
 "nbformat": 4,
 "nbformat_minor": 4
}
